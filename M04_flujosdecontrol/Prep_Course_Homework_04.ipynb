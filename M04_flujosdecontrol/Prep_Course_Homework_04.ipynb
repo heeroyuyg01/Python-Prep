{
 "cells": [
  {
   "attachments": {},
   "cell_type": "markdown",
   "metadata": {},
   "source": [
    "## Flujos de Control"
   ]
  },
  {
   "attachments": {},
   "cell_type": "markdown",
   "metadata": {},
   "source": [
    "1) Crear una variable que contenga un elemento del conjunto de números enteros y luego imprimir por pantalla si es mayor o menor a cero"
   ]
  },
  {
   "cell_type": "code",
   "execution_count": 41,
   "metadata": {},
   "outputs": [
    {
     "name": "stdout",
     "output_type": "stream",
     "text": [
      "a es mayor que 0\n"
     ]
    }
   ],
   "source": [
    "a=5\n",
    "if a>0:\n",
    "    print(\"a es mayor que 0\")\n",
    "elif a<0:\n",
    "    print(\"a es menor que 0\")"
   ]
  },
  {
   "attachments": {},
   "cell_type": "markdown",
   "metadata": {},
   "source": [
    "2) Crear dos variables y un condicional que informe si son del mismo tipo de dato"
   ]
  },
  {
   "cell_type": "code",
   "execution_count": 42,
   "metadata": {},
   "outputs": [
    {
     "name": "stdout",
     "output_type": "stream",
     "text": [
      "a y b son del mismo tipo de dato\n"
     ]
    }
   ],
   "source": [
    "a= 5\n",
    "b= 20\n",
    "if type (a)== type (b):\n",
    "    print (\"a y b son del mismo tipo de dato\")\n",
    "else:\n",
    "    print (\"a y b son de diferente tipo de dato\")"
   ]
  },
  {
   "attachments": {},
   "cell_type": "markdown",
   "metadata": {},
   "source": [
    "3) Para los valores enteros del 1 al 20, imprimir por pantalla si es par o impar"
   ]
  },
  {
   "cell_type": "code",
   "execution_count": 43,
   "metadata": {},
   "outputs": [
    {
     "name": "stdout",
     "output_type": "stream",
     "text": [
      "el numero  2 es par\n",
      "el numero  3 es impar\n",
      "el numero  4 es par\n",
      "el numero  5 es impar\n",
      "el numero  6 es par\n",
      "el numero  7 es impar\n",
      "el numero  8 es par\n",
      "el numero  9 es impar\n",
      "el numero  10 es par\n",
      "el numero  11 es impar\n",
      "el numero  12 es par\n",
      "el numero  13 es impar\n",
      "el numero  14 es par\n",
      "el numero  15 es impar\n",
      "el numero  16 es par\n",
      "el numero  17 es impar\n",
      "el numero  18 es par\n",
      "el numero  19 es impar\n",
      "el numero  20 es par\n"
     ]
    }
   ],
   "source": [
    "for num in range (1,20):\n",
    "    num= num+1\n",
    "    if num % 2==0:\n",
    "        print(\"el numero \",num, \"es par\")\n",
    "    else:\n",
    "        print(\"el numero \",num, \"es impar\")\n"
   ]
  },
  {
   "attachments": {},
   "cell_type": "markdown",
   "metadata": {},
   "source": [
    "4) En un ciclo for mostrar para los valores entre 0 y 5 el resultado de elevarlo a la potencia igual a 3"
   ]
  },
  {
   "cell_type": "code",
   "execution_count": 213,
   "metadata": {},
   "outputs": [
    {
     "name": "stdout",
     "output_type": "stream",
     "text": [
      "0\n",
      "1\n",
      "8\n",
      "27\n",
      "64\n",
      "125\n"
     ]
    }
   ],
   "source": [
    "for num in range (0,6):\n",
    "    num=num**3\n",
    "    print (num)"
   ]
  },
  {
   "attachments": {},
   "cell_type": "markdown",
   "metadata": {},
   "source": [
    "5) Crear una variable que contenga un número entero y realizar un ciclo for la misma cantidad de ciclos"
   ]
  },
  {
   "cell_type": "code",
   "execution_count": 45,
   "metadata": {},
   "outputs": [
    {
     "name": "stdout",
     "output_type": "stream",
     "text": [
      "1\n",
      "2\n",
      "3\n",
      "4\n",
      "5\n",
      "6\n"
     ]
    }
   ],
   "source": [
    "a=6\n",
    "for num in range (0,a):\n",
    "    num=num+1\n",
    "    print (num)"
   ]
  },
  {
   "attachments": {},
   "cell_type": "markdown",
   "metadata": {},
   "source": [
    "6) Utilizar un ciclo while para realizar el factorial de un número guardado en una variable, sólo si la variable contiene un número entero mayor a 0"
   ]
  },
  {
   "cell_type": "code",
   "execution_count": 46,
   "metadata": {},
   "outputs": [
    {
     "name": "stdout",
     "output_type": "stream",
     "text": [
      "120\n"
     ]
    }
   ],
   "source": [
    "num= 5\n",
    "fac = 1\n",
    "i = 1\n",
    " \n",
    "while i <= num:\n",
    "   fac = fac * i\n",
    "   i = i + 1\n",
    "print(fac)\n"
   ]
  },
  {
   "attachments": {},
   "cell_type": "markdown",
   "metadata": {},
   "source": [
    "7) Crear un ciclo for dentro de un ciclo while"
   ]
  },
  {
   "cell_type": "code",
   "execution_count": 47,
   "metadata": {},
   "outputs": [
    {
     "name": "stdout",
     "output_type": "stream",
     "text": [
      "Tabla de multiplicar del 2\n",
      "2 x 1 = 2\n",
      "2 x 2 = 4\n",
      "2 x 3 = 6\n",
      "2 x 4 = 8\n",
      "Tabla de multiplicar del 3\n",
      "3 x 1 = 3\n",
      "3 x 2 = 6\n",
      "3 x 3 = 9\n",
      "3 x 4 = 12\n",
      "Tabla de multiplicar del 4\n",
      "4 x 1 = 4\n",
      "4 x 2 = 8\n",
      "4 x 3 = 12\n",
      "4 x 4 = 16\n"
     ]
    }
   ],
   "source": [
    "i=1\n",
    "\n",
    "while i<4:\n",
    "    i=i+1\n",
    "    print(\"Tabla de multiplicar del\",i)\n",
    "    for j in range(1, 5):\n",
    "        print(i, \"x\", j, \"=\", i*j)\n",
    "    "
   ]
  },
  {
   "attachments": {},
   "cell_type": "markdown",
   "metadata": {},
   "source": [
    "8) Crear un ciclo while dentro de un ciclo for"
   ]
  },
  {
   "cell_type": "code",
   "execution_count": 48,
   "metadata": {},
   "outputs": [
    {
     "name": "stdout",
     "output_type": "stream",
     "text": [
      "Ciclo FOR 1\n",
      "Ciclo WHILE 1\n",
      "Ciclo WHILE 2\n",
      "Ciclo WHILE 3\n",
      "Ciclo WHILE 4\n",
      "Ciclo WHILE 5\n",
      "Ciclo FOR 2\n",
      "Ciclo WHILE 1\n",
      "Ciclo WHILE 2\n",
      "Ciclo WHILE 3\n",
      "Ciclo WHILE 4\n",
      "Ciclo WHILE 5\n",
      "Ciclo FOR 3\n",
      "Ciclo WHILE 1\n",
      "Ciclo WHILE 2\n",
      "Ciclo WHILE 3\n",
      "Ciclo WHILE 4\n",
      "Ciclo WHILE 5\n",
      "Ciclo FOR 4\n",
      "Ciclo WHILE 1\n",
      "Ciclo WHILE 2\n",
      "Ciclo WHILE 3\n",
      "Ciclo WHILE 4\n",
      "Ciclo WHILE 5\n"
     ]
    }
   ],
   "source": [
    "n = 1\n",
    "for i in range(n, 5):\n",
    "    print('Ciclo FOR ' + str(i))  # Imprime el número del ciclo for\n",
    "    temp = n  # Almacena el valor original de n en una variable temporal\n",
    "    \n",
    "    while temp <= 5:  # Ciclo while que se ejecuta mientras temp sea mayor que 0\n",
    "        print('Ciclo WHILE ' + str(temp))  # Imprime el número del ciclo while\n",
    "        temp += 1\n",
    "        \n",
    "        if temp <= 0:\n",
    "            break  # Sale del ciclo while cuando temp sea menor o igual a 0"
   ]
  },
  {
   "attachments": {},
   "cell_type": "markdown",
   "metadata": {},
   "source": [
    "9) Imprimir los números primos existentes entre 0 y 30"
   ]
  },
  {
   "cell_type": "code",
   "execution_count": 49,
   "metadata": {},
   "outputs": [
    {
     "name": "stdout",
     "output_type": "stream",
     "text": [
      "1\n",
      "2\n",
      "3\n",
      "5\n",
      "7\n",
      "11\n",
      "13\n",
      "17\n",
      "19\n",
      "23\n",
      "29\n"
     ]
    }
   ],
   "source": [
    "n = 1\n",
    "primo = True\n",
    "while (n < 30):\n",
    "    for div in range(2, n):\n",
    "        if (n % div == 0):\n",
    "            primo = False           \n",
    "    if (primo):\n",
    "        print(n)\n",
    "    else:\n",
    "        primo = True\n",
    "    n += 1"
   ]
  },
  {
   "cell_type": "code",
   "execution_count": 63,
   "metadata": {},
   "outputs": [
    {
     "name": "stdout",
     "output_type": "stream",
     "text": [
      "1\n",
      "2\n",
      "3\n",
      "5\n",
      "7\n",
      "11\n",
      "13\n",
      "17\n",
      "19\n",
      "23\n",
      "29\n"
     ]
    }
   ],
   "source": [
    "n = 1\n",
    "primo = True\n",
    "while (n < 30):\n",
    "    for div in range(2, n):\n",
    "        if (n % div == 0):\n",
    "            primo = False                   \n",
    "    if (primo):\n",
    "            print(n)\n",
    "    else:\n",
    "            primo = True\n",
    "    n += 1\n"
   ]
  },
  {
   "attachments": {},
   "cell_type": "markdown",
   "metadata": {},
   "source": [
    "10) ¿Se puede mejorar el proceso del punto 9? Utilizar las sentencias break y/ó continue para tal fin"
   ]
  },
  {
   "cell_type": "code",
   "execution_count": null,
   "metadata": {},
   "outputs": [
    {
     "name": "stdout",
     "output_type": "stream",
     "text": [
      "1\n",
      "2\n",
      "3\n",
      "5\n",
      "7\n",
      "11\n",
      "13\n",
      "17\n",
      "19\n",
      "23\n",
      "29\n",
      "Cantidad de ciclos: 134\n"
     ]
    }
   ],
   "source": [
    "ciclos_con_break = 0\n",
    "n = 1\n",
    "primo = True\n",
    "while (n < 30):\n",
    "    for div in range(2, n):\n",
    "        ciclos_con_break += 1\n",
    "        if (n % div == 0):\n",
    "            primo = False  \n",
    "            break         \n",
    "    if (primo):\n",
    "        print(n)\n",
    "    else:\n",
    "        primo = True\n",
    "    n += 1\n",
    "print('Cantidad de ciclos: ' + str(ciclos_con_break))"
   ]
  },
  {
   "attachments": {},
   "cell_type": "markdown",
   "metadata": {},
   "source": [
    "11) En los puntos 9 y 10, se diseño un código que encuentra números primos y además se lo optimizó. ¿Es posible saber en qué medida se optimizó?"
   ]
  },
  {
   "cell_type": "code",
   "execution_count": null,
   "metadata": {},
   "outputs": [
    {
     "name": "stdout",
     "output_type": "stream",
     "text": [
      "1\n",
      "2\n",
      "3\n",
      "5\n",
      "7\n",
      "11\n",
      "13\n",
      "17\n",
      "19\n",
      "23\n",
      "29\n",
      "Cantidad de ciclos: 378\n"
     ]
    }
   ],
   "source": [
    "ciclos_sin_break = 0\n",
    "n = 1\n",
    "primo = True\n",
    "while (n < 30):\n",
    "    for div in range(2, n):\n",
    "        ciclos_sin_break += 1\n",
    "        if (n % div == 0):\n",
    "            primo = False                 \n",
    "    if (primo):\n",
    "        print(n)\n",
    "    else:\n",
    "        primo = True\n",
    "    n += 1\n",
    "print('Cantidad de ciclos: ' + str(ciclos_sin_break))"
   ]
  },
  {
   "cell_type": "code",
   "execution_count": null,
   "metadata": {},
   "outputs": [
    {
     "name": "stdout",
     "output_type": "stream",
     "text": [
      "1\n",
      "2\n",
      "3\n",
      "5\n",
      "7\n",
      "11\n",
      "13\n",
      "17\n",
      "19\n",
      "23\n",
      "29\n",
      "Cantidad de ciclos: 134\n",
      "Se optimizó a un 0.3544973544973545% de ciclos aplicando break\n"
     ]
    }
   ],
   "source": [
    "ciclos_con_break = 0\n",
    "n = 1\n",
    "primo = True\n",
    "while (n < 30):\n",
    "    for div in range(2, n):\n",
    "        ciclos_con_break += 1\n",
    "        if (n % div == 0):\n",
    "            primo = False  \n",
    "            break         \n",
    "    if (primo):\n",
    "        print(n)\n",
    "    else:\n",
    "        primo = True\n",
    "    n += 1\n",
    "print('Cantidad de ciclos: ' + str(ciclos_con_break))\n",
    "print('Se optimizó a un ' + str(ciclos_con_break/ciclos_sin_break) + '% de ciclos aplicando break')"
   ]
  },
  {
   "attachments": {},
   "cell_type": "markdown",
   "metadata": {},
   "source": [
    "12) Aplicando continue, armar un ciclo while que solo imprima los valores divisibles por 12, dentro del rango de números de 100 a 300"
   ]
  },
  {
   "cell_type": "code",
   "execution_count": 142,
   "metadata": {},
   "outputs": [
    {
     "name": "stdout",
     "output_type": "stream",
     "text": [
      "108\n",
      "120\n",
      "132\n",
      "144\n",
      "156\n",
      "168\n",
      "180\n",
      "192\n",
      "204\n",
      "216\n",
      "228\n",
      "240\n",
      "252\n",
      "264\n",
      "276\n",
      "288\n",
      "300\n"
     ]
    }
   ],
   "source": [
    "n = 100\n",
    "while n<300:\n",
    "    n+=1\n",
    "    if (n % 12 == 0):\n",
    "        print(n)\n",
    "        continue           \n",
    "   "
   ]
  },
  {
   "attachments": {},
   "cell_type": "markdown",
   "metadata": {},
   "source": [
    "13) Utilizar la función **input()** que permite hacer ingresos por teclado, para encontrar números primos y dar la opción al usario de buscar el siguiente"
   ]
  },
  {
   "cell_type": "code",
   "execution_count": 214,
   "metadata": {},
   "outputs": [
    {
     "name": "stdout",
     "output_type": "stream",
     "text": [
      "El nÚmero 7 es primo\n",
      "El número 6 no es primo\n"
     ]
    }
   ],
   "source": [
    "def inicio ():\n",
    "  numero= int(input(\"INGRESA UN NUMERO PARA SABER SI ES PRIMO\"))\n",
    "  cont = 0\n",
    "\n",
    "  for n in range(2,numero):\n",
    "    if numero % n == 0:\n",
    "      cont +=1\n",
    "     \n",
    "  if cont > 0 :\n",
    "    print(\"El número\", numero, \"no es primo\" )\n",
    "  else:\n",
    "    print(\"El nÚmero\",numero, \"es primo\")\n",
    "\n",
    "  continuar= str(input(\"QUIERES INGRESAR OTRO NUMERO s/n:\"))\n",
    "  if continuar == \"s\":\n",
    "    return inicio()\n",
    "  else:\n",
    "    exit\n",
    "inicio()\n",
    "\n"
   ]
  },
  {
   "attachments": {},
   "cell_type": "markdown",
   "metadata": {},
   "source": [
    "14) Crear un ciclo while que encuentre dentro del rango de 100 a 300 el primer número divisible por 3 y además múltiplo de 6"
   ]
  },
  {
   "cell_type": "code",
   "execution_count": 212,
   "metadata": {},
   "outputs": [
    {
     "name": "stdout",
     "output_type": "stream",
     "text": [
      "102\n"
     ]
    }
   ],
   "source": [
    "n = 100\n",
    "while n<300:\n",
    "    n+=1\n",
    "    if (n % 3 == 0):\n",
    "        if n % 6 == 0:\n",
    "            print(n)\n",
    "            break\n",
    "\n"
   ]
  },
  {
   "cell_type": "markdown",
   "metadata": {},
   "source": [
    "holaaaa"
   ]
  }
 ],
 "metadata": {
  "interpreter": {
   "hash": "c85384e4cb51c8b72350f3a8712cc8351fdc3955e32a27f9b60c6242ab125f01"
  },
  "kernelspec": {
   "display_name": "Python 3 (ipykernel)",
   "language": "python",
   "name": "python3"
  },
  "language_info": {
   "codemirror_mode": {
    "name": "ipython",
    "version": 3
   },
   "file_extension": ".py",
   "mimetype": "text/x-python",
   "name": "python",
   "nbconvert_exporter": "python",
   "pygments_lexer": "ipython3",
   "version": "3.11.4"
  }
 },
 "nbformat": 4,
 "nbformat_minor": 4
}
