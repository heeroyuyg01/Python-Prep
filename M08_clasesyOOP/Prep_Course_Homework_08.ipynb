{
 "cells": [
  {
   "attachments": {},
   "cell_type": "markdown",
   "metadata": {},
   "source": [
    "## Clases y Programación Orientada a Objetos"
   ]
  },
  {
   "attachments": {},
   "cell_type": "markdown",
   "metadata": {},
   "source": [
    "1) Crear la clase vehículo que contenga los atributos:<br>\n",
    "Color<br>\n",
    "Si es moto, auto, camioneta ó camión<br>\n",
    "Cilindrada del motor"
   ]
  },
  {
   "cell_type": "code",
   "execution_count": 36,
   "metadata": {},
   "outputs": [
    {
     "name": "stdout",
     "output_type": "stream",
     "text": [
      "mi vehiculo es de tipo  moto de color  negro y con un cilindraje de  150\n",
      "mi vehiculo es de tipo  automovil de color  blanco y con un cilindraje de  1600\n"
     ]
    }
   ],
   "source": [
    "class vehiculo:\n",
    "    def __init__(self, tipo, color, cilindraje):\n",
    "        self.color = color\n",
    "        self.tipo = tipo\n",
    "        self.cilindraje = cilindraje\n",
    "\n",
    "    def presentar(self):\n",
    "        return print('mi vehiculo es de tipo ',self.tipo, 'de color ', self.color, 'y con un cilindraje de ',self.cilindraje)\n",
    "    \n",
    "     \n",
    "moto = vehiculo('moto','negro','150')\n",
    "moto.presentar()\n",
    "\n",
    "automovil = vehiculo('automovil','blanco','1600')\n",
    "automovil.presentar()"
   ]
  },
  {
   "attachments": {},
   "cell_type": "markdown",
   "metadata": {},
   "source": [
    "2) A la clase Vehiculo creada en el punto 1, agregar los siguientes métodos:<br>\n",
    "Acelerar<br>\n",
    "Frenar<br>\n",
    "Doblar<br>"
   ]
  },
  {
   "cell_type": "code",
   "execution_count": 42,
   "metadata": {},
   "outputs": [],
   "source": [
    "class vehiculo:\n",
    "    def __init__(self, tipo, color, cilindraje):\n",
    "        self.tipo = tipo\n",
    "        self.color = color\n",
    "        self.cilindraje = cilindraje\n",
    "        self.velocidad = 0\n",
    "        self.direccion = 0\n",
    "\n",
    "\n",
    "    def acelerar(self, vel):\n",
    "        self.velocidad += vel\n",
    "    def frenar(self, vel):\n",
    "        self.velocidad -= vel       \n",
    "    def doblar(self, grados):\n",
    "        self.direccion += grados\n",
    "\n",
    "    def presentar(self):\n",
    "        return print('mi vehiculo es de tipo ',self.tipo, 'de color ', self.color, 'y con un cilindraje de ',self.cilindraje)\n"
   ]
  },
  {
   "attachments": {},
   "cell_type": "markdown",
   "metadata": {},
   "source": [
    "3) Instanciar 3 objetos de la clase vehículo y ejecutar sus métodos, probar luego el resultado"
   ]
  },
  {
   "cell_type": "code",
   "execution_count": 46,
   "metadata": {},
   "outputs": [
    {
     "name": "stdout",
     "output_type": "stream",
     "text": [
      "mi vehiculo es de tipo  automovil de color  rojo y con un cilindraje de  1600\n",
      "mi vehiculo es de tipo  camioneta de color  blanco y con un cilindraje de  2000\n",
      "mi vehiculo es de tipo  moto de color  negro y con un cilindraje de  160\n"
     ]
    }
   ],
   "source": [
    "a1 = vehiculo('automovil','rojo', 1600) \n",
    "a2 = vehiculo('camioneta','blanco', 2000) \n",
    "a3 = vehiculo('moto','negro', 160) \n",
    "\n",
    "a1.presentar()\n",
    "a2.presentar()\n",
    "a3.presentar()"
   ]
  },
  {
   "attachments": {},
   "cell_type": "markdown",
   "metadata": {},
   "source": [
    "4) Agregar a la clase Vehiculo, un método que muestre su estado, es decir, a que velocidad se encuentra y su dirección. Y otro método que muestre color, tipo y cilindrada"
   ]
  },
  {
   "cell_type": "code",
   "execution_count": 55,
   "metadata": {},
   "outputs": [
    {
     "name": "stdout",
     "output_type": "stream",
     "text": [
      "Soy automovil de color rojo y mi cilindrada es de 1600 litros\n",
      "Velocidad: 30 - Dirección: 0\n"
     ]
    }
   ],
   "source": [
    "class vehiculo:\n",
    "    def __init__(self, tipo, color, cilindraje):\n",
    "        self.tipo = tipo\n",
    "        self.color = color\n",
    "        self.cilindraje = cilindraje\n",
    "        self.velocidad = 0\n",
    "        self.direccion = 0\n",
    "\n",
    "\n",
    "    def acelerar(self, vel):\n",
    "        self.velocidad += vel\n",
    "    def frenar(self, vel):\n",
    "        self.velocidad -= vel       \n",
    "    def doblar(self, grados):\n",
    "        self.direccion += grados\n",
    "\n",
    "    def estado(self):\n",
    "        print('Velocidad:', self.velocidad, '- Dirección:', self.direccion)\n",
    "\n",
    "    def detalle(self):\n",
    "        print('Soy', self.tipo, 'de color', self.color, 'y mi cilindrada es de', self.cilindraje, 'litros')\n",
    "\n",
    "a1 = vehiculo('automovil','rojo', 1600) \n",
    "a1.acelerar(50)\n",
    "a1.frenar(20)\n",
    "a1.detalle()\n",
    "a1.estado()"
   ]
  },
  {
   "attachments": {},
   "cell_type": "markdown",
   "metadata": {},
   "source": [
    "5) Crear una clase que permita utilizar las funciones creadas en la práctica del módulo 7<br>\n",
    "Verificar Primo<br>\n",
    "Valor modal<br>\n",
    "Conversión grados<br>\n",
    "Factorial<br>"
   ]
  },
  {
   "cell_type": "code",
   "execution_count": 10,
   "metadata": {},
   "outputs": [
    {
     "name": "stdout",
     "output_type": "stream",
     "text": [
      "True\n",
      "(5, 3)\n",
      "celsius\n",
      "-243.14999999999998\n"
     ]
    }
   ],
   "source": [
    "class operaciones:\n",
    "    \n",
    "    def primo (num):\n",
    "        for n in range(2,num):\n",
    "            if num%n == 0:\n",
    "                return False\n",
    "        return True\n",
    "\n",
    "    def valor_modal(lista):\n",
    "        lista_unicos = []\n",
    "        lista_repeticiones = []\n",
    "        if len(lista) == 0:\n",
    "            return None\n",
    "        for elemento in lista:\n",
    "            if elemento in lista_unicos:\n",
    "                i = lista_unicos.index(elemento)\n",
    "                lista_repeticiones[i] += 1\n",
    "            else:\n",
    "                lista_unicos.append(elemento)\n",
    "                lista_repeticiones.append(1)\n",
    "        moda = lista_unicos[0]\n",
    "        maximo = lista_repeticiones[0]\n",
    "        for i, elemento in enumerate(lista_unicos):\n",
    "            if lista_repeticiones[i] > maximo:\n",
    "                moda = lista_unicos[i]\n",
    "                maximo = lista_repeticiones[i]\n",
    "        return moda, maximo\n",
    "\n",
    "    def grados(valor,origen,destino):\n",
    "        if origen == 'celsius':\n",
    "            if destino == 'celsius':\n",
    "                valor_destino = valor\n",
    "                print('celsius')\n",
    "            elif destino == 'farenheit':\n",
    "                valor_destino = (valor*9/5) +32\n",
    "                print('farenheit')\n",
    "            elif destino == 'kelvin':\n",
    "                valor_destino = valor + 273.15\n",
    "                print('kelvin')\n",
    "            else:\n",
    "                print('Parametro de destino incorrecto')\n",
    "\n",
    "        elif origen == 'farenheit':\n",
    "            if destino == 'celsius':\n",
    "                valor_destino = (valor-32) * 5/9 \n",
    "                print('celsius')\n",
    "            elif destino == 'farenheit':\n",
    "                valor_destino = valor \n",
    "                print('farenheit')\n",
    "            elif destino == 'kelvin':\n",
    "                valor_destino = ((valor-32) *5/9) + 273.15\n",
    "                print('kelvin')\n",
    "            else:\n",
    "                print('Parámetro de Destino incorrecto')\n",
    "    \n",
    "        elif origen == 'kelvin':\n",
    "            if destino == 'celsius':\n",
    "                valor_destino = valor - 273.15\n",
    "                print('celsius')\n",
    "            elif destino == 'farenheit':\n",
    "                valor_destino = ((valor - 273.15) * 9/5) + 32\n",
    "                print('farenheit')\n",
    "            elif destino == 'kelvin':\n",
    "                valor_destino = valor \n",
    "                print('kelvin') \n",
    "            else:\n",
    "                print('Parámetro de Destino incorrecto')\n",
    "        else:\n",
    "            print('Parámetro de Origen incorrecto') \n",
    "    \n",
    "        return valor_destino \n",
    "\n",
    "\n",
    "    def factorial(numero):\n",
    "        if type(numero) != int:\n",
    "            return 'El número debe ser un entero'\n",
    "    \n",
    "        if numero < 0:\n",
    "            return 'El número debe ser positivo'\n",
    "\n",
    "        if numero <= 1:\n",
    "            return 1\n",
    "\n",
    "        numero = numero * factorial(numero - 1)\n",
    "        return numero\n",
    "    \n",
    "    factorial(8)\n",
    "    print(primo(11))\n",
    "    lista=[5,4,5,6,3,2,1,5,7,8,4]\n",
    "    print(valor_modal(lista))\n",
    "    print(grados(30,'kelvin','celsius'))\n",
    "    \n"
   ]
  },
  {
   "attachments": {},
   "cell_type": "markdown",
   "metadata": {},
   "source": [
    "6) Probar las funciones incorporadas en la clase del punto 5"
   ]
  },
  {
   "cell_type": "code",
   "execution_count": 31,
   "metadata": {},
   "outputs": [
    {
     "name": "stdout",
     "output_type": "stream",
     "text": [
      "True\n",
      "40320\n",
      "(5, 3)\n",
      "celsius\n",
      "-243.14999999999998\n"
     ]
    }
   ],
   "source": [
    "o=operaciones\n",
    "print(o.primo(11))\n",
    "print(o.factorial(8))\n",
    "lista=[5,4,5,6,3,2,1,5,7,8,4]\n",
    "print(o.valor_modal(lista))\n",
    "print(o.grados(30,'kelvin','celsius'))"
   ]
  },
  {
   "attachments": {},
   "cell_type": "markdown",
   "metadata": {},
   "source": [
    "7) Es necesario que la clase creada en el punto 5 contenga una lista, sobre la cual se apliquen las funciones incorporadas"
   ]
  },
  {
   "cell_type": "code",
   "execution_count": 2,
   "metadata": {},
   "outputs": [],
   "source": [
    "class operaciones:\n",
    "    def __init__(self, lista_numeros):\n",
    "        self.lista = lista_numeros\n",
    "\n",
    "    def primo(self, num):\n",
    "        for i in range(2,num):\n",
    "            if num%i == 0:\n",
    "                return False\n",
    "        return True\n",
    "\n",
    "    def verifica_primo(self):\n",
    "        for i in self.lista:\n",
    "            if (self.primo(i)):\n",
    "                print('El elemento', i, 'SI es un numero primo')\n",
    "            else:\n",
    "                print('El elemento', i, 'NO es un numero primo')\n",
    "    \n",
    "    def valor_modal(self, menor):\n",
    "        lista_unicos = []\n",
    "        lista_repeticiones = []\n",
    "        if len(self.lista) == 0:\n",
    "            return None\n",
    "        \n",
    "        if (menor):\n",
    "            self.lista.sort()\n",
    "        else:\n",
    "            self.lista.sort(reverse=True)\n",
    "\n",
    "        for elemento in self.lista:\n",
    "            if elemento in lista_unicos:\n",
    "                i = lista_unicos.index(elemento)\n",
    "                lista_repeticiones[i] += 1\n",
    "            else:\n",
    "                lista_unicos.append(elemento)\n",
    "                lista_repeticiones.append(1)\n",
    "        moda = lista_unicos[0]\n",
    "        maximo = lista_repeticiones[0]\n",
    "        for i, elemento in enumerate(lista_unicos):\n",
    "            if lista_repeticiones[i] > maximo:\n",
    "                moda = lista_unicos[i]\n",
    "                maximo = lista_repeticiones[i]\n",
    "        return moda, maximo\n",
    "    \n",
    "\n",
    "    def conversion_grados(self, origen, destino):\n",
    "        for i in self.lista:\n",
    "            print(i, 'grados', origen, 'son', self.grados(i, origen, destino),'grados',destino)\n",
    "\n",
    "    def grados(self,valor,origen,destino):\n",
    "        valor_destino = None\n",
    "        if origen == 'celsius':\n",
    "            if destino == 'celsius':\n",
    "                valor_destino = valor              \n",
    "            elif destino == 'farenheit':\n",
    "                valor_destino = (valor*9/5) +32               \n",
    "            elif destino == 'kelvin':\n",
    "                valor_destino = valor + 273.15             \n",
    "            else:\n",
    "                print('Parametro de destino incorrecto')\n",
    "\n",
    "        elif origen == 'farenheit':\n",
    "            if destino == 'celsius':\n",
    "                valor_destino = (valor-32) * 5/9              \n",
    "            elif destino == 'farenheit':\n",
    "                valor_destino = valor               \n",
    "            elif destino == 'kelvin':\n",
    "                valor_destino = ((valor-32) *5/9) + 273.15             \n",
    "            else:\n",
    "                print('Parámetro de Destino incorrecto')\n",
    "        \n",
    "        elif origen == 'kelvin':\n",
    "            if destino == 'celsius':\n",
    "                valor_destino = valor - 273.15             \n",
    "            elif destino == 'farenheit':\n",
    "                valor_destino = ((valor - 273.15) * 9/5) + 32           \n",
    "            elif destino == 'kelvin':\n",
    "                valor_destino = valor               \n",
    "            else:\n",
    "                print('Parámetro de Destino incorrecto')\n",
    "        else:\n",
    "            print('Parámetro de Origen incorrecto')         \n",
    "        return valor_destino \n",
    "      "
   ]
  },
  {
   "cell_type": "code",
   "execution_count": 3,
   "metadata": {},
   "outputs": [
    {
     "name": "stdout",
     "output_type": "stream",
     "text": [
      "El elemento 1 SI es un numero primo\n",
      "El elemento 2 SI es un numero primo\n",
      "El elemento 3 SI es un numero primo\n",
      "El elemento 4 NO es un numero primo\n",
      "El elemento 5 SI es un numero primo\n",
      "El elemento 6 NO es un numero primo\n",
      "El elemento 7 SI es un numero primo\n",
      "El elemento 5 SI es un numero primo\n",
      "El elemento 58 NO es un numero primo\n",
      "El elemento 9 NO es un numero primo\n",
      "El elemento 41 SI es un numero primo\n",
      "El elemento 12 NO es un numero primo\n",
      "El elemento 11 SI es un numero primo\n",
      "El elemento 5 SI es un numero primo\n"
     ]
    }
   ],
   "source": [
    "o=operaciones([1,2,3,4,5,6,7,5,58,9,41,12,11,5])\n",
    "o.verifica_primo()"
   ]
  },
  {
   "cell_type": "code",
   "execution_count": 4,
   "metadata": {},
   "outputs": [
    {
     "name": "stdout",
     "output_type": "stream",
     "text": [
      "El valor modal es 5 y se reptie 3 veces\n"
     ]
    }
   ],
   "source": [
    "moda, repe = o.valor_modal(False)\n",
    "print('El valor modal es', moda, 'y se reptie', repe, 'veces')"
   ]
  },
  {
   "cell_type": "code",
   "execution_count": 5,
   "metadata": {},
   "outputs": [
    {
     "name": "stdout",
     "output_type": "stream",
     "text": [
      "58 grados celsius son 136.4 grados farenheit\n",
      "41 grados celsius son 105.8 grados farenheit\n",
      "12 grados celsius son 53.6 grados farenheit\n",
      "11 grados celsius son 51.8 grados farenheit\n",
      "9 grados celsius son 48.2 grados farenheit\n",
      "7 grados celsius son 44.6 grados farenheit\n",
      "6 grados celsius son 42.8 grados farenheit\n",
      "5 grados celsius son 41.0 grados farenheit\n",
      "5 grados celsius son 41.0 grados farenheit\n",
      "5 grados celsius son 41.0 grados farenheit\n",
      "4 grados celsius son 39.2 grados farenheit\n",
      "3 grados celsius son 37.4 grados farenheit\n",
      "2 grados celsius son 35.6 grados farenheit\n",
      "1 grados celsius son 33.8 grados farenheit\n"
     ]
    }
   ],
   "source": [
    "o.conversion_grados('celsius','farenheit')"
   ]
  },
  {
   "attachments": {},
   "cell_type": "markdown",
   "metadata": {},
   "source": [
    "8) Crear un archivo .py aparte y ubicar allí la clase generada en el punto anterior. Luego realizar la importación del módulo y probar alguna de sus funciones"
   ]
  },
  {
   "cell_type": "code",
   "execution_count": null,
   "metadata": {},
   "outputs": [],
   "source": []
  }
 ],
 "metadata": {
  "interpreter": {
   "hash": "c85384e4cb51c8b72350f3a8712cc8351fdc3955e32a27f9b60c6242ab125f01"
  },
  "kernelspec": {
   "display_name": "Python 3 (ipykernel)",
   "language": "python",
   "name": "python3"
  },
  "language_info": {
   "codemirror_mode": {
    "name": "ipython",
    "version": 3
   },
   "file_extension": ".py",
   "mimetype": "text/x-python",
   "name": "python",
   "nbconvert_exporter": "python",
   "pygments_lexer": "ipython3",
   "version": "3.11.4"
  }
 },
 "nbformat": 4,
 "nbformat_minor": 4
}
